{
  "nbformat": 4,
  "nbformat_minor": 0,
  "metadata": {
    "colab": {
      "name": "wisardpkg (solution).ipynb",
      "provenance": [],
      "collapsed_sections": [],
      "include_colab_link": true
    },
    "kernelspec": {
      "display_name": "Python 3",
      "name": "python3"
    }
  },
  "cells": [
    {
      "cell_type": "markdown",
      "metadata": {
        "id": "view-in-github",
        "colab_type": "text"
      },
      "source": [
        "<a href=\"https://colab.research.google.com/github/rodrigohaddad/RNSP/blob/main/experiments/wisardpkg_(solution).ipynb\" target=\"_parent\"><img src=\"https://colab.research.google.com/assets/colab-badge.svg\" alt=\"Open In Colab\"/></a>"
      ]
    },
    {
      "cell_type": "code",
      "metadata": {
        "colab": {
          "base_uri": "https://localhost:8080/"
        },
        "id": "xc26r_hjF_A8",
        "outputId": "c64e7e9a-17c3-4900-fbd8-31d2d9e872a3"
      },
      "source": [
        "!pip install wisardpkg"
      ],
      "execution_count": null,
      "outputs": [
        {
          "output_type": "stream",
          "text": [
            "Requirement already satisfied: wisardpkg in /usr/local/lib/python3.7/dist-packages (1.6.3)\n",
            "Requirement already satisfied: pybind11>=2.2 in /usr/local/lib/python3.7/dist-packages (from wisardpkg) (2.6.2)\n"
          ],
          "name": "stdout"
        }
      ]
    },
    {
      "cell_type": "code",
      "metadata": {
        "id": "YYh75Zz_GJt7"
      },
      "source": [
        "import wisardpkg as wp\n",
        "\n",
        "import numpy as np\n",
        "import matplotlib.pyplot as plt\n",
        "\n",
        "from sklearn.datasets import fetch_openml\n",
        "from sklearn.model_selection import train_test_split"
      ],
      "execution_count": null,
      "outputs": []
    },
    {
      "cell_type": "markdown",
      "metadata": {
        "id": "7w6ZiTMMICOJ"
      },
      "source": [
        "# WisardPkg: Uma Implementação da família de Modelos WiSARD"
      ]
    },
    {
      "cell_type": "markdown",
      "metadata": {
        "id": "2lJ7Rx9cJURr"
      },
      "source": [
        "## 1. Introdução\n",
        "\n",
        "`wisardpkg` é uma biblioteca que implementa o algorimo *WiSARD* original e também múltiplos algoritmos variantes que foram propostos mais recentemente. É inteiramente implementada em C++, mas possui um wrapper em Python para uso mais conveniente. A biblioteca é hospedada no [Github](https://github.com/IAZero/wisardpkg)."
      ]
    },
    {
      "cell_type": "markdown",
      "metadata": {
        "id": "mAjxri_kP65T"
      },
      "source": [
        "## 2. Exemplo inicial\n",
        "\n"
      ]
    },
    {
      "cell_type": "markdown",
      "metadata": {
        "id": "mWWpnpGcSsSU"
      },
      "source": [
        "Para dar um primeiro exemplo de como podemos empregar a WiSARD, vamos pensar na tarefa de distinguir dois caracteres em imagens 3 x 3: os caracteres \"T\" e \"H\". Abaixo vemos as duas imagens que usaremos como exemplos de treino:"
      ]
    },
    {
      "cell_type": "code",
      "metadata": {
        "id": "UD8sGXbMIGbg"
      },
      "source": [
        "T = [\n",
        "  [1, 1, 1],\n",
        "  [0, 1, 0],\n",
        "  [0, 1, 0]\n",
        "]\n",
        "\n",
        "H = [\n",
        "  [1, 0, 1],\n",
        "  [1, 1, 1],\n",
        "  [1, 0, 1]\n",
        "]\n",
        "\n",
        "def display_chars(chars):\n",
        "  fig, axs = plt.subplots(1, len(chars))\n",
        "\n",
        "  for i, char in enumerate(chars):\n",
        "    img = char/np.max(char)\n",
        "    axs[i].imshow(char, cmap=\"gray_r\", vmin=0., vmax=1.)\n",
        "    axs[i].axes.xaxis.set_visible(False)\n",
        "    axs[i].axes.yaxis.set_visible(False)\n",
        "\n",
        "  return fig\n"
      ],
      "execution_count": null,
      "outputs": []
    },
    {
      "cell_type": "code",
      "metadata": {
        "colab": {
          "base_uri": "https://localhost:8080/",
          "height": 237
        },
        "id": "FtW7NJtkWgUu",
        "outputId": "68176d3a-c1c9-4a24-f6aa-9901841c54fd"
      },
      "source": [
        "display_chars([T, H]);"
      ],
      "execution_count": null,
      "outputs": [
        {
          "output_type": "display_data",
          "data": {
            "image/png": "[encoded data removed]",
            "text/plain": [
              "<Figure size 576x576 with 2 Axes>"
            ]
          },
          "metadata": {
            "tags": [],
            "needs_background": "light"
          }
        }
      ]
    },
    {
      "cell_type": "markdown",
      "metadata": {
        "id": "sueJvfadXrt0"
      },
      "source": [
        "Agora, vamos treinar um modelo sobre esses dois caracteres:"
      ]
    },
    {
      "cell_type": "code",
      "metadata": {
        "id": "eWOFszYZaVoQ"
      },
      "source": [
        "def flatten(char):\n",
        "  return np.reshape(char, (-1,)).tolist()"
      ],
      "execution_count": null,
      "outputs": []
    },
    {
      "cell_type": "code",
      "metadata": {
        "id": "H9ecB2VLZQyf"
      },
      "source": [
        "model = wp.Wisard(3)\n",
        "\n",
        "training_set = [flatten(char) for char in [T, H]]\n",
        "\n",
        "model.train(training_set, [\"T\", \"H\"])"
      ],
      "execution_count": null,
      "outputs": []
    },
    {
      "cell_type": "markdown",
      "metadata": {
        "id": "QzQ2bZQ1a1VL"
      },
      "source": [
        "Podemos testar contra os próprios exemplos de treino:"
      ]
    },
    {
      "cell_type": "code",
      "metadata": {
        "colab": {
          "base_uri": "https://localhost:8080/"
        },
        "id": "KOaLl-_Yavda",
        "outputId": "3c220f13-3170-4955-b066-428557eb07c8"
      },
      "source": [
        "model.classify(training_set)"
      ],
      "execution_count": null,
      "outputs": [
        {
          "output_type": "execute_result",
          "data": {
            "text/plain": [
              "['T', 'H']"
            ]
          },
          "metadata": {
            "tags": []
          },
          "execution_count": 7
        }
      ]
    },
    {
      "cell_type": "markdown",
      "metadata": {
        "id": "8T3VPv3mdy17"
      },
      "source": [
        "Ser capaz de classificar corretamente imagens já vistas antes, no entanto, não é muito surpreendente. Como o modelo se sai com exemplos novos?"
      ]
    },
    {
      "cell_type": "code",
      "metadata": {
        "colab": {
          "base_uri": "https://localhost:8080/",
          "height": 166
        },
        "id": "mvur8cq0dl4T",
        "outputId": "39bc599f-0426-4cb5-982f-ff98ac93ec14"
      },
      "source": [
        "new_examples = [\n",
        "  [\n",
        "   [1, 1, 0],\n",
        "   [0, 1, 0],\n",
        "   [0, 1, 0]\n",
        "  ],\n",
        "  [\n",
        "   [1, 0, 1],\n",
        "   [1, 1, 1],\n",
        "   [1, 1, 1]\n",
        "  ],\n",
        "  [\n",
        "   [0, 1, 0],\n",
        "   [0, 1, 1],\n",
        "   [0, 1, 1]\n",
        "  ]\n",
        "]\n",
        "\n",
        "display_chars(new_examples);"
      ],
      "execution_count": null,
      "outputs": [
        {
          "output_type": "display_data",
          "data": {
            "image/png": "[encoded data removed]",
            "text/plain": [
              "<Figure size 576x576 with 3 Axes>"
            ]
          },
          "metadata": {
            "tags": [],
            "needs_background": "light"
          }
        }
      ]
    },
    {
      "cell_type": "code",
      "metadata": {
        "colab": {
          "base_uri": "https://localhost:8080/"
        },
        "id": "-3ZATGMF_D4h",
        "outputId": "9873b544-3c04-4152-b210-9331420b0431"
      },
      "source": [
        "test_set = [flatten(char) for char in new_examples]\n",
        "\n",
        "model.classify(test_set)"
      ],
      "execution_count": null,
      "outputs": [
        {
          "output_type": "execute_result",
          "data": {
            "text/plain": [
              "['T', 'H', 'T']"
            ]
          },
          "metadata": {
            "tags": []
          },
          "execution_count": 9
        }
      ]
    },
    {
      "cell_type": "markdown",
      "metadata": {
        "id": "WX3hXvlMM2L8"
      },
      "source": [
        "Nesse exemplo, não demos muita atenção hiperparâmetros do modelo, mas há alguns deles e o ajuste correto é extremamente para alcançar uma boa performance, especialmente em tarefas mais complexas. A lista de hiperparâmetros desse modelo e suas descrições podem ser vistas [aqui](https://iazero.github.io/wisardpkg/models/wisard)."
      ]
    },
    {
      "cell_type": "markdown",
      "metadata": {
        "id": "sBOj8cOmub1F"
      },
      "source": [
        "O que exatamente o modelo aprendeu? O que reside nos neurônios RAM? Podemos ter uma ideia através das imagens mentais do modelo:"
      ]
    },
    {
      "cell_type": "code",
      "metadata": {
        "colab": {
          "base_uri": "https://localhost:8080/",
          "height": 237
        },
        "id": "q7QVC5Y5sjvb",
        "outputId": "f810c998-e5b8-4794-a9cc-a748df75b257"
      },
      "source": [
        "def inflate(char):\n",
        "  return np.reshape(char, (3, 3)).tolist()\n",
        "\n",
        "images = model.getMentalImages()\n",
        "\n",
        "display_chars([inflate(image) for image in images.values()]);"
      ],
      "execution_count": null,
      "outputs": [
        {
          "output_type": "display_data",
          "data": {
            "image/png": "[encoded data removed]",
            "text/plain": [
              "<Figure size 576x576 with 2 Axes>"
            ]
          },
          "metadata": {
            "tags": [],
            "needs_background": "light"
          }
        }
      ]
    },
    {
      "cell_type": "markdown",
      "metadata": {
        "id": "c2N2yAM_uZk1"
      },
      "source": [
        "Nesse exemplo, as imagens mentais são exatamente os exemplos de treino, pois apresentamos apenas um exemplo por classe. No entanto, em uma tarefa mais realista, teríamos múltiplos exemplos por classe, cada um com suas particularidades. Nesses cenários, as imagens são bem mais difusas e mostram que o modelo tenta assimilar as características fundamentais das classes. Isso é bem visível nas imagens mentais de um modelo treinado sobre o MNIST."
      ]
    },
    {
      "cell_type": "markdown",
      "metadata": {
        "id": "6DDWeHLKD8jI"
      },
      "source": [
        "## 3. Indo além de exemplos simples\n",
        "\n",
        "Nesse momento, os resultados demonstrados acima podem não parecer muito impressionantes. Verdadeiramente, eles não são. Distinguir imagens compostas de meros 9 pixels não é uma tarefa difícil. No entanto, redes neurais sem peso não estão de forma alguma limitadas a problemas de tão baixas dimensões. Desde sua incepção, a WiSARD foi empregada em tarefas mais complicadas. Um exemplo de maiores dimensões, e que ainda assim não representa os limites do modelo, e a classificação de dígitos do conjunto de dados MNIST. A WiSARD é capaz de alcançar altos níveis de acurácia quando trainada e avalida com o MNIST."
      ]
    },
    {
      "cell_type": "code",
      "metadata": {
        "id": "KEl--QsMAhxZ"
      },
      "source": [
        "X, y = fetch_openml('mnist_784', version=1, return_X_y=True)"
      ],
      "execution_count": null,
      "outputs": []
    },
    {
      "cell_type": "code",
      "metadata": {
        "id": "r46ZatAwUvOO"
      },
      "source": [
        "def sample_digit(target, X=X, y=y):\n",
        "    return next((digit for (digit, label) in zip(X, y) if label == str(target))).reshape((28,28))\n",
        "\n",
        "def display_mnist_digits():\n",
        "    fig, axs = plt.subplots(2, 5)\n",
        "    \n",
        "    for i in range(2):\n",
        "        for j in range(5):\n",
        "            axs[i, j].imshow(sample_digit(5*i + j), cmap=\"gray\")\n",
        "            axs[i, j].axes.xaxis.set_visible(False)\n",
        "            axs[i, j].axes.yaxis.set_visible(False)\n",
        "  \n",
        "    return fig"
      ],
      "execution_count": null,
      "outputs": []
    },
    {
      "cell_type": "code",
      "metadata": {
        "colab": {
          "base_uri": "https://localhost:8080/",
          "height": 349
        },
        "id": "JpLZDtw7V60v",
        "outputId": "0353ece2-0ae2-4efe-8213-4613ed149b83"
      },
      "source": [
        "display_mnist_digits();"
      ],
      "execution_count": null,
      "outputs": [
        {
          "output_type": "display_data",
          "data": {
            "image/png": "[encoded data removed]",
            "text/plain": [
              "<Figure size 576x576 with 10 Axes>"
            ]
          },
          "metadata": {
            "tags": [],
            "needs_background": "light"
          }
        }
      ]
    },
    {
      "cell_type": "code",
      "metadata": {
        "colab": {
          "base_uri": "https://localhost:8080/"
        },
        "id": "Jb1FqfXUJr1h",
        "outputId": "2ec28b8d-b55e-4805-a29f-f110d3c5e83e"
      },
      "source": [
        "X[0].shape"
      ],
      "execution_count": null,
      "outputs": [
        {
          "output_type": "execute_result",
          "data": {
            "text/plain": [
              "(784,)"
            ]
          },
          "metadata": {
            "tags": []
          },
          "execution_count": 14
        }
      ]
    },
    {
      "cell_type": "markdown",
      "metadata": {
        "id": "JT6Z47EQqyQs"
      },
      "source": [
        "Binarizando imagens:"
      ]
    },
    {
      "cell_type": "code",
      "metadata": {
        "id": "d4hfBw5QqnxO"
      },
      "source": [
        "def binarize(image, threshold):\n",
        "  return np.where(image > threshold, 1, 0).tolist()\n",
        "\n",
        "\n",
        "def binary_encoder(images, threshold=127):\n",
        "  return [binarize(image, threshold) for image in images]"
      ],
      "execution_count": null,
      "outputs": []
    },
    {
      "cell_type": "code",
      "metadata": {
        "id": "Inx45W1mq1wl"
      },
      "source": [
        "X_bin = binary_encoder(X)"
      ],
      "execution_count": null,
      "outputs": []
    },
    {
      "cell_type": "code",
      "metadata": {
        "id": "pEeZfUTdq-nY"
      },
      "source": [
        "X_train, X_test, y_train, y_test = train_test_split(X_bin, y, test_size=1/7, random_state=1)"
      ],
      "execution_count": null,
      "outputs": []
    },
    {
      "cell_type": "markdown",
      "metadata": {
        "id": "-AhqxrnurJYq"
      },
      "source": [
        "Agora, vamos treinar um primeiro modelo WiSARD:"
      ]
    },
    {
      "cell_type": "code",
      "metadata": {
        "colab": {
          "base_uri": "https://localhost:8080/"
        },
        "id": "KEXfTRHLrGqx",
        "outputId": "3755ebd6-2c30-44a9-c693-8e6156a848c2"
      },
      "source": [
        "%%time\n",
        "model = wp.Wisard(3)\n",
        "\n",
        "model.train(X_train, y_train.tolist())"
      ],
      "execution_count": null,
      "outputs": [
        {
          "output_type": "stream",
          "text": [
            "CPU times: user 1.46 s, sys: 95 ms, total: 1.55 s\n",
            "Wall time: 1.55 s\n"
          ],
          "name": "stdout"
        }
      ]
    },
    {
      "cell_type": "markdown",
      "metadata": {
        "id": "nX7-uoA1rM8g"
      },
      "source": [
        "Vamos definir uma função para medir a acurácia:"
      ]
    },
    {
      "cell_type": "code",
      "metadata": {
        "id": "f6jRiqgzrLnA"
      },
      "source": [
        "def accuracy(y_pred, y_target):\n",
        "  return np.where(y_pred == y_target, 1, 0).sum()/len(y_target)"
      ],
      "execution_count": null,
      "outputs": []
    },
    {
      "cell_type": "code",
      "metadata": {
        "colab": {
          "base_uri": "https://localhost:8080/"
        },
        "id": "fXQrEfJ4rO01",
        "outputId": "98881173-2aa0-4007-fc13-a2cfbfc8841d"
      },
      "source": [
        "%%time\n",
        "accuracy(model.classify(X_test), y_test)"
      ],
      "execution_count": null,
      "outputs": [
        {
          "output_type": "stream",
          "text": [
            "CPU times: user 54.9 s, sys: 193 ms, total: 55.1 s\n",
            "Wall time: 54.9 s\n"
          ],
          "name": "stdout"
        },
        {
          "output_type": "execute_result",
          "data": {
            "text/plain": [
              "0.7005"
            ]
          },
          "metadata": {
            "tags": []
          },
          "execution_count": 20
        }
      ]
    },
    {
      "cell_type": "markdown",
      "metadata": {
        "id": "i-lCv4z1rTk-"
      },
      "source": [
        "Variando o tamanho de tupla:"
      ]
    },
    {
      "cell_type": "code",
      "metadata": {
        "colab": {
          "base_uri": "https://localhost:8080/"
        },
        "id": "UL-HrqeirQV8",
        "outputId": "f00b5cf1-31ae-4593-948d-4311bef792b1"
      },
      "source": [
        "%%time\n",
        "model_2 = wp.Wisard(28)\n",
        "\n",
        "model_2.train(X_train, y_train.tolist())\n",
        "\n",
        "print(accuracy(model_2.classify(X_test), y_test))"
      ],
      "execution_count": null,
      "outputs": [
        {
          "output_type": "stream",
          "text": [
            "0.9099\n",
            "CPU times: user 2.83 s, sys: 68 ms, total: 2.9 s\n",
            "Wall time: 2.89 s\n"
          ],
          "name": "stdout"
        }
      ]
    },
    {
      "cell_type": "markdown",
      "metadata": {
        "id": "Zi2xgg-4qkPX"
      },
      "source": [
        "Imagens mentais:"
      ]
    },
    {
      "cell_type": "code",
      "metadata": {
        "id": "zJmh5wYboJGi"
      },
      "source": [
        "def display_digits(images):\n",
        "  fig, axs = plt.subplots(2, 5, squeeze=True)\n",
        "\n",
        "  for i, img in enumerate(images.values()):\n",
        "    img = np.reshape(img, (28, 28))\n",
        "    img = img/np.max(img)\n",
        "    fig.axes[i].imshow(img, cmap=\"gray\", vmin=0., vmax=1.)\n",
        "    fig.axes[i].xaxis.set_visible(False)\n",
        "    fig.axes[i].yaxis.set_visible(False)\n",
        "\n",
        "  return fig"
      ],
      "execution_count": null,
      "outputs": []
    },
    {
      "cell_type": "code",
      "metadata": {
        "colab": {
          "base_uri": "https://localhost:8080/",
          "height": 349
        },
        "id": "7ThFYj8ZostH",
        "outputId": "7e390598-f3ea-484e-d79c-bb4d16a4afe2"
      },
      "source": [
        "display_digits(model_2.getMentalImages());"
      ],
      "execution_count": null,
      "outputs": [
        {
          "output_type": "display_data",
          "data": {
            "image/png": "[encoded data removed]",
            "text/plain": [
              "<Figure size 576x576 with 10 Axes>"
            ]
          },
          "metadata": {
            "tags": [],
            "needs_background": "light"
          }
        }
      ]
    }
  ]
}