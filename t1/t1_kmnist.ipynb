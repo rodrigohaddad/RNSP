{
  "nbformat": 4,
  "nbformat_minor": 0,
  "metadata": {
    "colab": {
      "name": "t1-kmnist.ipynb",
      "provenance": [],
      "authorship_tag": "ABX9TyNIZbSAPDw9pbNKPW7pHADe",
      "include_colab_link": true
    },
    "kernelspec": {
      "name": "python3",
      "display_name": "Python 3"
    },
    "language_info": {
      "name": "python"
    }
  },
  "cells": [
    {
      "cell_type": "markdown",
      "metadata": {
        "id": "view-in-github",
        "colab_type": "text"
      },
      "source": [
        "<a href=\"https://colab.research.google.com/github/rodrigohaddad/RNSP/blob/main/t1/t1_kmnist.ipynb\" target=\"_parent\"><img src=\"https://colab.research.google.com/assets/colab-badge.svg\" alt=\"Open In Colab\"/></a>"
      ]
    },
    {
      "cell_type": "code",
      "metadata": {
        "colab": {
          "base_uri": "https://localhost:8080/"
        },
        "id": "u1J3oWY9wich",
        "outputId": "45614511-0c56-416d-8a91-efa04c36b4a1"
      },
      "source": [
        "!pip install wisardpkg\n",
        "!git clone https://github.com/rois-codh/kmnist.git\n",
        "!python /content/kmnist/download_data.py"
      ],
      "execution_count": 15,
      "outputs": [
        {
          "output_type": "stream",
          "text": [
            "Requirement already satisfied: wisardpkg in /usr/local/lib/python3.7/dist-packages (1.6.3)\n",
            "Requirement already satisfied: pybind11>=2.2 in /usr/local/lib/python3.7/dist-packages (from wisardpkg) (2.6.2)\n",
            "fatal: destination path 'kmnist' already exists and is not an empty directory.\n",
            "Please select a download option:\n",
            "1) Kuzushiji-MNIST (10 classes, 28x28, 70k examples)\n",
            "2) Kuzushiji-49 (49 classes, 28x28, 270k examples)\n",
            "3) Kuzushiji-Kanji (3832 classes, 64x64, 140k examples)\n",
            "> 1\n",
            "Please select a download option:\n",
            "1) MNIST data format (ubyte.gz)\n",
            "2) NumPy data format (.npz)\n",
            "> 2\n",
            "Downloading kmnist-train-imgs.npz - 18.0 MB\n",
            "100% 17954/17954 [00:02<00:00, 7953.75KB/s]\n",
            "Downloading kmnist-train-labels.npz - 0.0 MB\n",
            "100% 30/30 [00:00<00:00, 249.37KB/s]\n",
            "Downloading kmnist-test-imgs.npz - 3.0 MB\n",
            "100% 3008/3008 [00:00<00:00, 3280.43KB/s]\n",
            "Downloading kmnist-test-labels.npz - 0.0 MB\n",
            "100% 6/6 [00:00<00:00, 13662.23KB/s]\n",
            "All dataset files downloaded!\n"
          ],
          "name": "stdout"
        }
      ]
    },
    {
      "cell_type": "code",
      "metadata": {
        "id": "HjvTnurZwbol"
      },
      "source": [
        "import wisardpkg as wp\n",
        "\n",
        "import numpy as np\n",
        "import matplotlib.pyplot as plt\n",
        "\n",
        "from sklearn.datasets import fetch_openml\n",
        "from sklearn.model_selection import train_test_split\n",
        "from sklearn.metrics import accuracy_score"
      ],
      "execution_count": 36,
      "outputs": []
    },
    {
      "cell_type": "code",
      "metadata": {
        "id": "qkChMOVEyT9a"
      },
      "source": [
        "def load(f):\n",
        "    return np.load(f)['arr_0']\n",
        "\n",
        "# Load the data\n",
        "imgs = {'x_train': load('kmnist-train-imgs.npz'),\n",
        "        'x_test': load('kmnist-test-imgs.npz')}\n",
        "\n",
        "labels = {'y_train': [str(i) for i in load('kmnist-train-labels.npz')],\n",
        "          'y_test': [str(i) for i in load('kmnist-test-labels.npz')]}"
      ],
      "execution_count": 89,
      "outputs": []
    },
    {
      "cell_type": "code",
      "metadata": {
        "id": "KgcRgnMk0w4I"
      },
      "source": [
        "class BinarizeKmnist():\n",
        "  def standard_bin(self, obj):\n",
        "    bin = dict()\n",
        "    for key, value in obj.items():\n",
        "      bin[key] = [np.where(xis<128, 0, 1).tolist() for xis in value][0]\n",
        "    return bin"
      ],
      "execution_count": 107,
      "outputs": []
    },
    {
      "cell_type": "code",
      "metadata": {
        "id": "lNkdQtFB6bMC"
      },
      "source": [
        "binarize = BinarizeKmnist()\n",
        "imgs_bin = binarize.standard_bin(imgs)"
      ],
      "execution_count": 108,
      "outputs": []
    },
    {
      "cell_type": "code",
      "metadata": {
        "colab": {
          "base_uri": "https://localhost:8080/"
        },
        "id": "zMr3NzEX3N31",
        "outputId": "70ea102b-8470-46e4-8458-b764bc174763"
      },
      "source": [
        "model_info_kmnist = wp.Wisard(20)\n",
        "model_info_kmnist.train(imgs_bin['x_train'][0:28], labels['y_train'][0:28])\n",
        "y_pred = model_info_kmnist.classify(imgs_bin['x_test'][0:10])\n",
        "accuracy_score(labels['y_test'][0:10], y_pred)"
      ],
      "execution_count": 109,
      "outputs": [
        {
          "output_type": "execute_result",
          "data": {
            "text/plain": [
              "0.1"
            ]
          },
          "metadata": {
            "tags": []
          },
          "execution_count": 109
        }
      ]
    },
    {
      "cell_type": "code",
      "metadata": {
        "colab": {
          "base_uri": "https://localhost:8080/"
        },
        "id": "8_o5LEqb_2a2",
        "outputId": "c64399f1-308e-4978-ea07-2e4811e148e9"
      },
      "source": [
        "len(imgs_bin['x_train'])"
      ],
      "execution_count": 102,
      "outputs": [
        {
          "output_type": "execute_result",
          "data": {
            "text/plain": [
              "28"
            ]
          },
          "metadata": {
            "tags": []
          },
          "execution_count": 102
        }
      ]
    }
  ]
}