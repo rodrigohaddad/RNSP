{
  "nbformat": 4,
  "nbformat_minor": 0,
  "metadata": {
    "colab": {
      "name": "t1-kmnist.ipynb",
      "provenance": [],
      "authorship_tag": "ABX9TyPp41tDFNh/adYOVjYYHQrw",
      "include_colab_link": true
    },
    "kernelspec": {
      "name": "python3",
      "display_name": "Python 3"
    },
    "language_info": {
      "name": "python"
    }
  },
  "cells": [
    {
      "cell_type": "markdown",
      "metadata": {
        "id": "view-in-github",
        "colab_type": "text"
      },
      "source": [
        "<a href=\"https://colab.research.google.com/github/rodrigohaddad/RNSP/blob/main/t1/t1_kmnist_with_encoders.ipynb\" target=\"_parent\"><img src=\"https://colab.research.google.com/assets/colab-badge.svg\" alt=\"Open In Colab\"/></a>"
      ]
    },
    {
      "cell_type": "code",
      "metadata": {
        "colab": {
          "base_uri": "https://localhost:8080/"
        },
        "id": "u1J3oWY9wich",
        "outputId": "34a008e2-1039-420f-98e6-99fdb94b2881"
      },
      "source": [
        "!pip install wisardpkg\n",
        "!git clone https://github.com/rois-codh/kmnist.git\n",
        "!python /content/kmnist/download_data.py\n",
        "\n",
        "!git clone https://gist.github.com/1fe5c78be9a5ec2d507e8118e2c99740.git\n",
        "!mv 1fe5c78be9a5ec2d507e8118e2c99740/*.py ./\n",
        "!rm -rf ./1fe5c78be9a5ec2d507e8118e2c99740"
      ],
      "execution_count": 1,
      "outputs": [
        {
          "output_type": "stream",
          "text": [
            "Collecting wisardpkg\n",
            "\u001b[?25l  Downloading https://files.pythonhosted.org/packages/f1/6d/02c4cc15ce041f26710fdf319bbb469372b22212fe5c8364615fe8b25f72/wisardpkg-1.6.3.tar.gz (126kB)\n",
            "\u001b[K     |████████████████████████████████| 133kB 25.7MB/s \n",
            "\u001b[?25hCollecting pybind11>=2.2\n",
            "\u001b[?25l  Downloading https://files.pythonhosted.org/packages/8d/43/7339dbabbc2793718d59703aace4166f53c29ee1c202f6ff5bf8a26c4d91/pybind11-2.6.2-py2.py3-none-any.whl (191kB)\n",
            "\u001b[K     |████████████████████████████████| 194kB 29.6MB/s \n",
            "\u001b[?25hBuilding wheels for collected packages: wisardpkg\n",
            "  Building wheel for wisardpkg (setup.py) ... \u001b[?25lerror\n",
            "\u001b[31m  ERROR: Failed building wheel for wisardpkg\u001b[0m\n",
            "\u001b[?25h  Running setup.py clean for wisardpkg\n",
            "Failed to build wisardpkg\n",
            "Installing collected packages: pybind11, wisardpkg\n",
            "    Running setup.py install for wisardpkg ... \u001b[?25l\u001b[?25hdone\n",
            "Successfully installed pybind11-2.6.2 wisardpkg-1.6.3\n",
            "Cloning into 'kmnist'...\n",
            "remote: Enumerating objects: 211, done.\u001b[K\n",
            "remote: Counting objects: 100% (3/3), done.\u001b[K\n",
            "remote: Compressing objects: 100% (3/3), done.\u001b[K\n",
            "remote: Total 211 (delta 0), reused 0 (delta 0), pack-reused 208\u001b[K\n",
            "Receiving objects: 100% (211/211), 408.40 KiB | 34.03 MiB/s, done.\n",
            "Resolving deltas: 100% (117/117), done.\n",
            "Please select a download option:\n",
            "1) Kuzushiji-MNIST (10 classes, 28x28, 70k examples)\n",
            "2) Kuzushiji-49 (49 classes, 28x28, 270k examples)\n",
            "3) Kuzushiji-Kanji (3832 classes, 64x64, 140k examples)\n",
            "> 1\n",
            "Please select a download option:\n",
            "1) MNIST data format (ubyte.gz)\n",
            "2) NumPy data format (.npz)\n",
            "> 2\n",
            "Downloading kmnist-train-imgs.npz - 18.0 MB\n",
            "100% 17954/17954 [00:03<00:00, 5737.35KB/s]\n",
            "Downloading kmnist-train-labels.npz - 0.0 MB\n",
            "100% 30/30 [00:00<00:00, 198.85KB/s]\n",
            "Downloading kmnist-test-imgs.npz - 3.0 MB\n",
            "100% 3008/3008 [00:01<00:00, 2509.43KB/s]\n",
            "Downloading kmnist-test-labels.npz - 0.0 MB\n",
            "100% 6/6 [00:00<00:00, 13632.62KB/s]\n",
            "All dataset files downloaded!\n",
            "Cloning into '1fe5c78be9a5ec2d507e8118e2c99740'...\n",
            "remote: Enumerating objects: 5, done.\u001b[K\n",
            "remote: Total 5 (delta 0), reused 0 (delta 0), pack-reused 5\u001b[K\n",
            "Unpacking objects: 100% (5/5), done.\n"
          ],
          "name": "stdout"
        }
      ]
    },
    {
      "cell_type": "code",
      "metadata": {
        "id": "HjvTnurZwbol"
      },
      "source": [
        "import wisardpkg as wp\n",
        "\n",
        "import numpy as np\n",
        "import matplotlib.pyplot as plt\n",
        "\n",
        "from sklearn.datasets import fetch_openml\n",
        "from sklearn.model_selection import train_test_split\n",
        "from sklearn.metrics import accuracy_score\n",
        "\n",
        "from skimage.data import page\n",
        "from skimage.filters import threshold_otsu, threshold_niblack, threshold_sauvola\n",
        "\n",
        "from encoders import ThermometerEncoder, CircularThermometerEncoder, FloatBinaryEncoder"
      ],
      "execution_count": 50,
      "outputs": []
    },
    {
      "cell_type": "code",
      "metadata": {
        "id": "qkChMOVEyT9a"
      },
      "source": [
        "def load(f):\n",
        "    return np.load(f)['arr_0']\n",
        "\n",
        "# Load the data\n",
        "imgs = {'x_train': load('kmnist-train-imgs.npz'),\n",
        "        'x_test': load('kmnist-test-imgs.npz')}\n",
        "\n",
        "labels = {'y_train': [str(i) for i in load('kmnist-train-labels.npz')],\n",
        "          'y_test': [str(i) for i in load('kmnist-test-labels.npz')]}"
      ],
      "execution_count": 51,
      "outputs": []
    },
    {
      "cell_type": "code",
      "metadata": {
        "id": "hJ19KyzMdL-0",
        "colab": {
          "base_uri": "https://localhost:8080/",
          "height": 211
        },
        "outputId": "a61ea329-d9b8-408a-ed91-e14f7a34ae07"
      },
      "source": [
        "def sample_digit(target, X=imgs['x_train'], y=labels['y_train']):\n",
        "    return next((digit for (digit, label) in zip(X, y) if label == str(target))).reshape((28,28))\n",
        "\n",
        "def display_kmnist_digits():\n",
        "    fig, axs = plt.subplots(2, 5)\n",
        "    \n",
        "    for i in range(2):\n",
        "        for j in range(5):\n",
        "            axs[i, j].imshow(sample_digit(5*i + j), cmap=\"gray\")\n",
        "            axs[i, j].axes.xaxis.set_visible(False)\n",
        "            axs[i, j].axes.yaxis.set_visible(False)\n",
        "  \n",
        "    return fig\n",
        "\n",
        "display_kmnist_digits();"
      ],
      "execution_count": 52,
      "outputs": [
        {
          "output_type": "display_data",
          "data": {
            "image/png": "[encoded data removed]",
            "text/plain": [
              "<Figure size 432x288 with 10 Axes>"
            ]
          },
          "metadata": {
            "tags": [],
            "needs_background": "light"
          }
        }
      ]
    },
    {
      "cell_type": "code",
      "metadata": {
        "id": "KgcRgnMk0w4I"
      },
      "source": [
        "class BinarizeKmnist():\n",
        "  def basic_bin(self, obj):\n",
        "    bin = dict()\n",
        "    for key, value in obj.items():\n",
        "      bin[key] = [np.where(xis<128, 0, 1).flatten() for xis in value]\n",
        "    return bin\n",
        "\n",
        "  def simple_thermometer(self, obj):\n",
        "    bin = dict()\n",
        "    therm = ThermometerEncoder(maximum=255, minimum=0, resolution=25)\n",
        "    for key, value in obj.items():\n",
        "      bin[key] = [therm.encode(xis).flatten() for xis in value[0:5000]]\n",
        "    return bin\n",
        "\n",
        "  def circular_thermometer(self, obj):\n",
        "    bin = dict()\n",
        "    therm = CircularThermometerEncoder(maximum=255, minimum=0, resolution=20)\n",
        "    for key, value in obj.items():\n",
        "      bin[key] = [therm.encode(xis).flatten() for xis in value[0:5000]]\n",
        "    return bin\n",
        "\n",
        "  def sauvola(self, obj, window_size):\n",
        "    bin = dict()\n",
        "    for key, value in obj.items():\n",
        "      bin_imgs = list()\n",
        "      for img in value[0:5]:\n",
        "        thresh_sauvola = threshold_sauvola(img, window_size=7)\n",
        "        binary_sauvola = np.array( img > thresh_sauvola, dtype=int)\n",
        "        bin_imgs.append(binary_sauvola)\n",
        "      bin[key] = bin_imgs\n",
        "    return bin"
      ],
      "execution_count": 61,
      "outputs": []
    },
    {
      "cell_type": "code",
      "metadata": {
        "id": "zMr3NzEX3N31"
      },
      "source": [
        "def classify(imgs_train, imgs_test, labels_train):\n",
        "  model_info_kmnist = wp.Wisard(20)\n",
        "  model_info_kmnist.train(imgs_train, labels_train)\n",
        "  y_pred = model_info_kmnist.classify(imgs_test)\n",
        "\n",
        "  return y_pred, model_info_kmnist"
      ],
      "execution_count": 54,
      "outputs": []
    },
    {
      "cell_type": "code",
      "metadata": {
        "id": "8_o5LEqb_2a2"
      },
      "source": [
        "def display_digits(images):\n",
        "  fig, axs = plt.subplots(2, 5, squeeze=True)\n",
        "\n",
        "  for i, img in enumerate(images.values()):\n",
        "    img = np.reshape(img, (28, 28))\n",
        "    img = img/np.max(img)\n",
        "    fig.axes[i].imshow(img, cmap=\"gray\", vmin=0., vmax=1.)\n",
        "    fig.axes[i].xaxis.set_visible(False)\n",
        "    fig.axes[i].yaxis.set_visible(False)\n",
        "\n",
        "  return fig"
      ],
      "execution_count": 55,
      "outputs": []
    },
    {
      "cell_type": "code",
      "metadata": {
        "id": "aVj0ecn6jbRR"
      },
      "source": [
        "binarize = BinarizeKmnist()"
      ],
      "execution_count": 59,
      "outputs": []
    },
    {
      "cell_type": "code",
      "metadata": {
        "colab": {
          "base_uri": "https://localhost:8080/"
        },
        "id": "XTSS2K1FihIU",
        "outputId": "6233e19e-3fc5-467f-864d-a71e9678ce3e"
      },
      "source": [
        "# Simple binarization\n",
        "imgs_basic_bin = binarize.basic_bin(imgs)\n",
        "y_pred_sb, model_info_sb_kmnist = classify(imgs_basic_bin['x_train'], imgs_basic_bin['x_test'], labels['y_train'])\n",
        "print(accuracy_score(labels['y_test'], y_pred_sb))\n",
        "#display_digits(model_info_sb_kmnist.getMentalImages())"
      ],
      "execution_count": null,
      "outputs": [
        {
          "output_type": "execute_result",
          "data": {
            "text/plain": [
              "0.7327"
            ]
          },
          "metadata": {
            "tags": []
          },
          "execution_count": 76
        }
      ]
    },
    {
      "cell_type": "code",
      "metadata": {
        "id": "qTcM8LCUilrC",
        "colab": {
          "base_uri": "https://localhost:8080/"
        },
        "outputId": "df39f579-058e-4cef-f05b-85cf958091fa"
      },
      "source": [
        "# Simple thermometer\n",
        "imgs_st_bin = binarize.simple_thermometer(imgs)\n",
        "y_pred_st, model_info_st_kmnist = classify(imgs_st_bin['x_train'], imgs_st_bin['x_test'], labels['y_train'][0:5000])\n",
        "print(accuracy_score(labels['y_test'][0:5000], y_pred_st))\n",
        "#display_digits(model_info_st_kmnist.getMentalImages())"
      ],
      "execution_count": null,
      "outputs": [
        {
          "output_type": "execute_result",
          "data": {
            "text/plain": [
              "0.7378"
            ]
          },
          "metadata": {
            "tags": []
          },
          "execution_count": 75
        }
      ]
    },
    {
      "cell_type": "code",
      "metadata": {
        "id": "FFHHh-Mn2dnC",
        "colab": {
          "base_uri": "https://localhost:8080/"
        },
        "outputId": "a226476b-a47c-4990-e474-bd82f71d1b25"
      },
      "source": [
        "# Circular thermometer\n",
        "imgs_ct_bin = binarize.circular_thermometer(imgs)\n",
        "y_pred_ct, model_info_ct_kmnist = classify(imgs_ct_bin['x_train'], imgs_ct_bin['x_test'], labels['y_train'][0:5000])\n",
        "accuracy_score(labels['y_test'][0:5000], y_pred_ct)\n",
        "#display_digits(model_info_ct_kmnist.getMentalImages())"
      ],
      "execution_count": null,
      "outputs": [
        {
          "output_type": "execute_result",
          "data": {
            "text/plain": [
              "0.5318"
            ]
          },
          "metadata": {
            "tags": []
          },
          "execution_count": 93
        }
      ]
    },
    {
      "cell_type": "code",
      "metadata": {
        "id": "Ew5yPZUAS5Ap"
      },
      "source": [
        "# Sauvola\n",
        "imgs_sauvola_bin = binarize.sauvola(imgs, 11)\n",
        "y_pred_sauvola, model_info_sauvola_kmnist = classify(imgs_sauvola_bin['x_train'], imgs_sauvola_bin['x_test'], labels['y_train'][0:5])"
      ],
      "execution_count": null,
      "outputs": []
    },
    {
      "cell_type": "code",
      "metadata": {
        "id": "vuTrKbQsZK84",
        "outputId": "aef743b4-4f9c-4ced-9b0f-8dcf7089d3f8",
        "colab": {
          "base_uri": "https://localhost:8080/",
          "height": 163
        }
      },
      "source": [
        "print(accuracy_score(labels['y_test'], y_pred_sauvola))"
      ],
      "execution_count": 45,
      "outputs": [
        {
          "output_type": "error",
          "ename": "NameError",
          "evalue": "ignored",
          "traceback": [
            "\u001b[0;31m---------------------------------------------------------------------------\u001b[0m",
            "\u001b[0;31mNameError\u001b[0m                                 Traceback (most recent call last)",
            "\u001b[0;32m<ipython-input-45-9007856ec25a>\u001b[0m in \u001b[0;36m<module>\u001b[0;34m()\u001b[0m\n\u001b[0;32m----> 1\u001b[0;31m \u001b[0mprint\u001b[0m\u001b[0;34m(\u001b[0m\u001b[0maccuracy_score\u001b[0m\u001b[0;34m(\u001b[0m\u001b[0mlabels\u001b[0m\u001b[0;34m[\u001b[0m\u001b[0;34m'y_test'\u001b[0m\u001b[0;34m]\u001b[0m\u001b[0;34m,\u001b[0m \u001b[0my_pred_sauvola\u001b[0m\u001b[0;34m)\u001b[0m\u001b[0;34m)\u001b[0m\u001b[0;34m\u001b[0m\u001b[0;34m\u001b[0m\u001b[0m\n\u001b[0m",
            "\u001b[0;31mNameError\u001b[0m: name 'y_pred_sauvola' is not defined"
          ]
        }
      ]
    },
    {
      "cell_type": "code",
      "metadata": {
        "id": "oy8_xFpRZvoL"
      },
      "source": [
        ""
      ],
      "execution_count": null,
      "outputs": []
    },
    {
      "cell_type": "code",
      "metadata": {
        "id": "KXUrm11iM2f2"
      },
      "source": [
        "# ClusWisard\n",
        "clus = wp.ClusWisard(24, 0.1, 10, 10)\n",
        "clus.train(imgs_basic_bin['x_train'], labels['y_train'])\n",
        "out = clus.classify(imgs_basic_bin['x_test'])\n",
        "accuracy_score(labels['y_test'], out)"
      ],
      "execution_count": null,
      "outputs": []
    }
  ]
}