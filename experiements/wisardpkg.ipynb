{
  "nbformat": 4,
  "nbformat_minor": 0,
  "metadata": {
    "colab": {
      "name": "wisardpkg.ipynb",
      "provenance": [],
      "collapsed_sections": [],
      "toc_visible": true,
      "include_colab_link": true
    },
    "kernelspec": {
      "name": "python3",
      "display_name": "Python 3"
    }
  },
  "cells": [
    {
      "cell_type": "markdown",
      "metadata": {
        "id": "view-in-github",
        "colab_type": "text"
      },
      "source": [
        "<a href=\"https://colab.research.google.com/github/rodrigohaddad/RNSP/blob/main/experiements/wisardpkg.ipynb\" target=\"_parent\"><img src=\"https://colab.research.google.com/assets/colab-badge.svg\" alt=\"Open In Colab\"/></a>"
      ]
    },
    {
      "cell_type": "code",
      "metadata": {
        "id": "xc26r_hjF_A8",
        "colab": {
          "base_uri": "https://localhost:8080/"
        },
        "outputId": "59d8004b-4563-4489-db10-5dad8be45d9f"
      },
      "source": [
        "!pip install wisardpkg"
      ],
      "execution_count": null,
      "outputs": [
        {
          "output_type": "stream",
          "text": [
            "Requirement already satisfied: wisardpkg in /usr/local/lib/python3.7/dist-packages (1.6.3)\n",
            "Requirement already satisfied: pybind11>=2.2 in /usr/local/lib/python3.7/dist-packages (from wisardpkg) (2.6.2)\n"
          ],
          "name": "stdout"
        }
      ]
    },
    {
      "cell_type": "code",
      "metadata": {
        "id": "YYh75Zz_GJt7"
      },
      "source": [
        "import wisardpkg as wp\n",
        "\n",
        "import numpy as np\n",
        "import matplotlib.pyplot as plt\n",
        "\n",
        "from sklearn.datasets import fetch_openml\n",
        "from sklearn.model_selection import train_test_split\n",
        "from sklearn.metrics import accuracy_score"
      ],
      "execution_count": null,
      "outputs": []
    },
    {
      "cell_type": "markdown",
      "metadata": {
        "id": "7w6ZiTMMICOJ"
      },
      "source": [
        "# WisardPkg: Uma Implementação da família de Modelos WiSARD"
      ]
    },
    {
      "cell_type": "markdown",
      "metadata": {
        "id": "2lJ7Rx9cJURr"
      },
      "source": [
        "## 1. Introdução\n",
        "\n",
        "`wisardpkg` é uma biblioteca que implementa o algorimo *WiSARD* original e também múltiplos algoritmos variantes que foram propostos mais recentemente. É inteiramente implementada em C++, mas possui um wrapper em Python para uso mais conveniente. A biblioteca é hospedada no [Github](https://github.com/IAZero/wisardpkg)."
      ]
    },
    {
      "cell_type": "markdown",
      "metadata": {
        "id": "mAjxri_kP65T"
      },
      "source": [
        "## 2. Exemplo inicial\n",
        "\n"
      ]
    },
    {
      "cell_type": "markdown",
      "metadata": {
        "id": "mWWpnpGcSsSU"
      },
      "source": [
        "Para dar um primeiro exemplo de como podemos empregar a WiSARD, vamos pensar na tarefa de distinguir dois caracteres em imagens 3 x 3: os caracteres \"T\" e \"H\". Abaixo vemos as duas imagens que usaremos como exemplos de treino:"
      ]
    },
    {
      "cell_type": "code",
      "metadata": {
        "id": "UD8sGXbMIGbg"
      },
      "source": [
        "T = [\n",
        "  [1, 1, 1],\n",
        "  [0, 1, 0],\n",
        "  [0, 1, 0]\n",
        "]\n",
        "\n",
        "H = [\n",
        "  [1, 0, 1],\n",
        "  [1, 1, 1],\n",
        "  [1, 0, 1]\n",
        "]\n",
        "\n",
        "def display_chars(chars):\n",
        "  fig, axs = plt.subplots(1, len(chars))\n",
        "\n",
        "  for i, char in enumerate(chars):\n",
        "    axs[i].imshow(char, cmap=\"gray_r\")\n",
        "    axs[i].axes.xaxis.set_visible(False)\n",
        "    axs[i].axes.yaxis.set_visible(False)\n",
        "\n",
        "  return fig\n"
      ],
      "execution_count": null,
      "outputs": []
    },
    {
      "cell_type": "code",
      "metadata": {
        "id": "FtW7NJtkWgUu",
        "colab": {
          "base_uri": "https://localhost:8080/",
          "height": 187
        },
        "outputId": "00673986-896c-4080-e7c5-29ee9af17820"
      },
      "source": [
        "display_chars([T, H]);"
      ],
      "execution_count": null,
      "outputs": [
        {
          "output_type": "display_data",
          "data": {
            "image/png": "[encoded data removed]",
            "text/plain": [
              "<Figure size 432x288 with 2 Axes>"
            ]
          },
          "metadata": {
            "tags": [],
            "needs_background": "light"
          }
        }
      ]
    },
    {
      "cell_type": "markdown",
      "metadata": {
        "id": "sueJvfadXrt0"
      },
      "source": [
        "Agora, vamos treinar um modelo sobre esses dois caracteres:"
      ]
    },
    {
      "cell_type": "code",
      "metadata": {
        "id": "eWOFszYZaVoQ"
      },
      "source": [
        "def flatten(char):\n",
        "  return np.reshape(char, (-1,)).tolist()"
      ],
      "execution_count": null,
      "outputs": []
    },
    {
      "cell_type": "code",
      "metadata": {
        "id": "H9ecB2VLZQyf"
      },
      "source": [
        "model = wp.Wisard(3)\n",
        "\n",
        "training_set = [flatten(char) for char in [T, H]]\n",
        "\n",
        "model.train(training_set, [\"T\", \"H\"])"
      ],
      "execution_count": null,
      "outputs": []
    },
    {
      "cell_type": "markdown",
      "metadata": {
        "id": "QzQ2bZQ1a1VL"
      },
      "source": [
        "Podemos testar contra os próprios exemplos de treino:"
      ]
    },
    {
      "cell_type": "code",
      "metadata": {
        "id": "KOaLl-_Yavda",
        "colab": {
          "base_uri": "https://localhost:8080/"
        },
        "outputId": "dfe139ec-2a3b-40c6-cd46-4a6701d1de23"
      },
      "source": [
        "model.classify(training_set)"
      ],
      "execution_count": null,
      "outputs": [
        {
          "output_type": "execute_result",
          "data": {
            "text/plain": [
              "['T', 'H']"
            ]
          },
          "metadata": {
            "tags": []
          },
          "execution_count": 8
        }
      ]
    },
    {
      "cell_type": "markdown",
      "metadata": {
        "id": "8T3VPv3mdy17"
      },
      "source": [
        "Ser capaz de classificar corretamente imagens já vistas antes, no entanto, não é muito surpreendente. Como o modelo se sai com exemplos novos?"
      ]
    },
    {
      "cell_type": "code",
      "metadata": {
        "id": "mvur8cq0dl4T",
        "colab": {
          "base_uri": "https://localhost:8080/",
          "height": 133
        },
        "outputId": "18c3bc03-bd98-45e8-e1c1-2ea81c12b1eb"
      },
      "source": [
        "new_examples = [\n",
        "  [\n",
        "   [1, 1, 0],\n",
        "   [0, 1, 0],\n",
        "   [0, 1, 0]\n",
        "  ],\n",
        "  [\n",
        "   [1, 0, 1],\n",
        "   [1, 1, 1],\n",
        "   [1, 1, 1]\n",
        "  ],\n",
        "  [\n",
        "   [0, 1, 0],\n",
        "   [0, 1, 1],\n",
        "   [0, 1, 1]\n",
        "  ]\n",
        "]\n",
        "\n",
        "display_chars(new_examples);"
      ],
      "execution_count": null,
      "outputs": [
        {
          "output_type": "display_data",
          "data": {
            "image/png": "[encoded data removed]",
            "text/plain": [
              "<Figure size 432x288 with 3 Axes>"
            ]
          },
          "metadata": {
            "tags": [],
            "needs_background": "light"
          }
        }
      ]
    },
    {
      "cell_type": "code",
      "metadata": {
        "id": "-3ZATGMF_D4h",
        "colab": {
          "base_uri": "https://localhost:8080/"
        },
        "outputId": "ff9e0b55-5a5e-4c71-c604-b0e16253ae9c"
      },
      "source": [
        "test_set = [flatten(char) for char in new_examples]\n",
        "\n",
        "model.classify(test_set)"
      ],
      "execution_count": null,
      "outputs": [
        {
          "output_type": "execute_result",
          "data": {
            "text/plain": [
              "['T', 'H', 'T']"
            ]
          },
          "metadata": {
            "tags": []
          },
          "execution_count": 10
        }
      ]
    },
    {
      "cell_type": "markdown",
      "metadata": {
        "id": "e38Q4Ril-yKk"
      },
      "source": [
        "Como o modelo está rotulando os exemplos?"
      ]
    },
    {
      "cell_type": "code",
      "metadata": {
        "id": "Bb24S5_68xPn",
        "colab": {
          "base_uri": "https://localhost:8080/"
        },
        "outputId": "4e415f95-93b6-4d59-8454-5dc191d69f4e"
      },
      "source": [
        "model_info = wp.Wisard(3, returnActivationDegree=True, returnConfidence=True)\n",
        "\n",
        "model_info.train(training_set, [\"T\", \"H\"])\n",
        "\n",
        "model_info.classify(test_set)"
      ],
      "execution_count": null,
      "outputs": [
        {
          "output_type": "execute_result",
          "data": {
            "text/plain": [
              "[{'activationDegree': 0.6666666865348816, 'class': 'T', 'confidence': 1.0},\n",
              " {'activationDegree': 0.6666666865348816, 'class': 'H', 'confidence': 1.0},\n",
              " {'activationDegree': 0.3333333432674408, 'class': 'T', 'confidence': 1.0}]"
            ]
          },
          "metadata": {
            "tags": []
          },
          "execution_count": 11
        }
      ]
    },
    {
      "cell_type": "markdown",
      "metadata": {
        "id": "WX3hXvlMM2L8"
      },
      "source": [
        "Nesse exemplo, não demos muita atenção hiperparâmetros do modelo, mas há alguns deles e o ajuste correto é extremamente para alcançar uma boa performance, especialmente em tarefas mais complexas. A lista de hiperparâmetros desse modelo e suas descrições podem ser vistas [aqui](https://iazero.github.io/wisardpkg/models/wisard)."
      ]
    },
    {
      "cell_type": "markdown",
      "metadata": {
        "id": "sBOj8cOmub1F"
      },
      "source": [
        "O que exatamente o modelo aprendeu? O que reside nos neurônios RAM? Podemos ter uma ideia através das imagens mentais do modelo:"
      ]
    },
    {
      "cell_type": "code",
      "metadata": {
        "id": "q7QVC5Y5sjvb",
        "colab": {
          "base_uri": "https://localhost:8080/",
          "height": 187
        },
        "outputId": "d16babfd-cc88-40c3-dda9-6cb29d4541db"
      },
      "source": [
        "def inflate(char):\n",
        "  return np.reshape(char, (3, 3)).tolist()\n",
        "\n",
        "images = model.getMentalImages()\n",
        "\n",
        "display_chars([inflate(image) for image in images.values()]);"
      ],
      "execution_count": null,
      "outputs": [
        {
          "output_type": "display_data",
          "data": {
            "image/png": "[encoded data removed]",
            "text/plain": [
              "<Figure size 432x288 with 2 Axes>"
            ]
          },
          "metadata": {
            "tags": [],
            "needs_background": "light"
          }
        }
      ]
    },
    {
      "cell_type": "markdown",
      "metadata": {
        "id": "c2N2yAM_uZk1"
      },
      "source": [
        "Nesse exemplo, as imagens mentais são exatamente os exemplos de treino, pois apresentamos apenas um exemplo por classe. No entanto, em uma tarefa mais realista, teríamos múltiplos exemplos por classe, cada um com suas particularidades. Nesses cenários, as imagens são bem mais difusas e mostram que o modelo tenta assimilar as características fundamentais das classes. Isso é bem visível nas imagens mentais de um modelo treinado sobre o MNIST."
      ]
    },
    {
      "cell_type": "markdown",
      "metadata": {
        "id": "6DDWeHLKD8jI"
      },
      "source": [
        "## 3. Indo além de exemplos simples\n",
        "\n",
        "Nesse momento, os resultados demonstrados acima podem não parecer muito impressionantes. Verdadeiramente, eles não são. Distinguir imagens compostas de meros 9 pixels não é uma tarefa difícil. No entanto, redes neurais sem peso não estão de forma alguma limitadas a problemas de tão baixas dimensões. Desde sua incepção, a WiSARD foi empregada em tarefas mais complicadas. Um exemplo de maiores dimensões, e que ainda assim não representa os limites do modelo, e a classificação de dígitos do conjunto de dados MNIST. A WiSARD é capaz de alcançar altos níveis de acurácia quando trainada e avalida com o MNIST."
      ]
    },
    {
      "cell_type": "code",
      "metadata": {
        "id": "KEl--QsMAhxZ"
      },
      "source": [
        "X, y = fetch_openml('mnist_784', version=1, return_X_y=True)"
      ],
      "execution_count": null,
      "outputs": []
    },
    {
      "cell_type": "code",
      "metadata": {
        "id": "r46ZatAwUvOO"
      },
      "source": [
        "def sample_digit(target, X=X, y=y):\n",
        "    return next((digit for (digit, label) in zip(X, y) if label == str(target))).reshape((28,28))\n",
        "\n",
        "def display_mnist_digits():\n",
        "    fig, axs = plt.subplots(2, 5)\n",
        "    \n",
        "    for i in range(2):\n",
        "        for j in range(5):\n",
        "            axs[i, j].imshow(sample_digit(5*i + j), cmap=\"gray\")\n",
        "            axs[i, j].axes.xaxis.set_visible(False)\n",
        "            axs[i, j].axes.yaxis.set_visible(False)\n",
        "  \n",
        "    return fig"
      ],
      "execution_count": null,
      "outputs": []
    },
    {
      "cell_type": "code",
      "metadata": {
        "id": "JpLZDtw7V60v",
        "colab": {
          "base_uri": "https://localhost:8080/",
          "height": 211
        },
        "outputId": "6fbe40b8-ead7-4e82-aeb0-c6d08f426a17"
      },
      "source": [
        "display_mnist_digits();"
      ],
      "execution_count": null,
      "outputs": [
        {
          "output_type": "display_data",
          "data": {
            "image/png": "[encoded data removed]",
            "text/plain": [
              "<Figure size 432x288 with 10 Axes>"
            ]
          },
          "metadata": {
            "tags": [],
            "needs_background": "light"
          }
        }
      ]
    },
    {
      "cell_type": "markdown",
      "metadata": {
        "id": "GRyIHhUOHGz7"
      },
      "source": [
        "# Exercício: treine um modelo para classificar os dígitos do MNIST\n",
        "\n",
        "- Os exemplos estão no formato esperado pelo modelo?\n",
        "- Não esqueça de considerar os hiperparâmetros\n",
        "- Reserve parte das imagens para avaliar como o modelo se sai com entradas nunca antes vistas\n",
        "- Funções que podem ser úteis: [np.where](https://numpy.org/doc/stable/reference/generated/numpy.where.html), [train_test_split](https://scikit-learn.org/stable/modules/generated/sklearn.model_selection.train_test_split.html) e [accuracy_score](https://scikit-learn.org/stable/modules/generated/sklearn.metrics.accuracy_score.html)"
      ]
    },
    {
      "cell_type": "code",
      "metadata": {
        "id": "Cv-DLvJDG7Hr"
      },
      "source": [
        "from sklearn.model_selection import train_test_split\n",
        "from sklearn.metrics import accuracy_score\n",
        "\n",
        "list_of_binaries = list()\n",
        "for xis in X:\n",
        "  list_of_binaries.append(np.where(xis<128, 0, 1))\n",
        "\n",
        "X_train, X_test, y_train, y_test = train_test_split(list_of_binaries[0:3500], y[0:3500], test_size=0.33, random_state=42)"
      ],
      "execution_count": null,
      "outputs": []
    },
    {
      "cell_type": "code",
      "metadata": {
        "id": "ZdrLcds9NXEf"
      },
      "source": [
        "model_info_mnist = wp.Wisard(20, returnActivationDegree=True, returnConfidence=True)\n",
        "model_info_mnist.train(X_train, y_train)\n",
        "y_pred_list_of_dict = model_info_mnist.classify(X_test)"
      ],
      "execution_count": null,
      "outputs": []
    },
    {
      "cell_type": "code",
      "metadata": {
        "id": "tiqRjk7oQ4Jg",
        "colab": {
          "base_uri": "https://localhost:8080/"
        },
        "outputId": "9766f2b3-7974-4bb8-bdec-bee03c4e4c1d"
      },
      "source": [
        "y_pred = [a_dict[\"class\"] for a_dict in y_pred_list_of_dict]\n",
        "\n",
        "accuracy_score(y_test, y_pred)"
      ],
      "execution_count": null,
      "outputs": [
        {
          "output_type": "execute_result",
          "data": {
            "text/plain": [
              "0.8952380952380953"
            ]
          },
          "metadata": {
            "tags": []
          },
          "execution_count": 27
        }
      ]
    }
  ]
}